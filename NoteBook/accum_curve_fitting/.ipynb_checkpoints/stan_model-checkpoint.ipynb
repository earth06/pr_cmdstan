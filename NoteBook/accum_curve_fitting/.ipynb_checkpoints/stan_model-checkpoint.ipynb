{
 "cells": [
  {
   "cell_type": "code",
   "execution_count": 1,
   "id": "cd097f82-acb2-418b-b578-9d955b74cf55",
   "metadata": {},
   "outputs": [],
   "source": [
    "import cmdstanpy\n",
    "import pandas as pd\n",
    "import matplotlib.pyplot as plt\n",
    "import numpy as np\n",
    "import cmdstanjupyter\n",
    "import arviz"
   ]
  },
  {
   "cell_type": "code",
   "execution_count": 2,
   "id": "02bf7987-6cb4-4d3e-b921-65c1008245e1",
   "metadata": {},
   "outputs": [],
   "source": [
    "%load_ext cmdstanjupyter"
   ]
  },
  {
   "cell_type": "code",
   "execution_count": 3,
   "id": "7e230a73-8178-499e-8bd5-02ddcb607845",
   "metadata": {},
   "outputs": [],
   "source": [
    "df = pd.read_parquet(\"../../customdataset/accum_curve_dataset.parquet\")"
   ]
  },
  {
   "cell_type": "code",
   "execution_count": 4,
   "id": "0ebe771e-c15b-4531-ad68-bf24e746b560",
   "metadata": {},
   "outputs": [],
   "source": [
    "df[\"date_idx\"] = df[\"date\"].dt.dayofyear"
   ]
  },
  {
   "cell_type": "code",
   "execution_count": null,
   "id": "4f58f23c-3ea5-488c-b069-258921dab894",
   "metadata": {},
   "outputs": [],
   "source": [
    "df[\"p\"]"
   ]
  },
  {
   "cell_type": "code",
   "execution_count": null,
   "id": "062dcb44-99f7-440e-a575-e5578969b2f0",
   "metadata": {},
   "outputs": [],
   "source": [
    "\n"
   ]
  },
  {
   "cell_type": "code",
   "execution_count": 5,
   "id": "3cab3e4e-bd57-49cb-9135-f8e2fccaa047",
   "metadata": {},
   "outputs": [
    {
     "name": "stderr",
     "output_type": "stream",
     "text": [
      "INFO:cmdstanjupyter:Creating CmdStanPy model & assigning it to variable \"model\"\n",
      "INFO:cmdstanjupyter:StanModel now available as variable \"model\"!\n",
      " Compilation took a moment.\n"
     ]
    }
   ],
   "source": [
    "%%stan model\n",
    "data {\n",
    "    int N_X;\n",
    "    vector[N_X] y_price;\n",
    "}\n",
    "parameters {\n",
    "    real<lower=0> k;\n",
    "    real<lower=0> x0;\n",
    "    real<lower=0> sigma_y;\n",
    "}\n",
    "model{\n",
    "    for (n in 1:N_X)\n",
    "        y_price[n] ~ normal(10/(1+exp(-k* (n-x0))), sigma_y );\n",
    "}\n",
    "\n",
    "generated quantities {\n",
    "    vector[N_X] y_new;\n",
    "    for (n in 1:N_X)\n",
    "        y_new[n] = normal_rng(10/ (1+exp(-k*(n-x0))), sigma_y);\n",
    "}\n"
   ]
  },
  {
   "cell_type": "code",
   "execution_count": 6,
   "id": "560de25b-09a2-42cc-9371-9c93c8a05aa9",
   "metadata": {},
   "outputs": [
    {
     "name": "stderr",
     "output_type": "stream",
     "text": [
      "/tmp/ipykernel_5652/2291006699.py:1: FutureWarning: The behavior of 'isin' with dtype=datetime64[ns] and castable values (e.g. strings) is deprecated. In a future version, these will not be considered matching by isin. Explicitly cast to the appropriate dtype before calling isin instead.\n",
      "  df_sel = df.query(\"date=='2022-01-01'\").query(\"hour==0\")\n"
     ]
    }
   ],
   "source": [
    "df_sel = df.query(\"date=='2022-01-01'\").query(\"hour==0\")"
   ]
  },
  {
   "cell_type": "code",
   "execution_count": 7,
   "id": "e0191f37-8639-4bae-ae35-f7d178a91bb9",
   "metadata": {},
   "outputs": [],
   "source": [
    "data = {\n",
    "    \"N_X\":2001,\n",
    "    \"y_price\":df_sel[\"y\"].values\n",
    "}"
   ]
  },
  {
   "cell_type": "code",
   "execution_count": null,
   "id": "737baf11-dd75-4a84-b5d4-e99252241b4d",
   "metadata": {},
   "outputs": [],
   "source": []
  },
  {
   "cell_type": "code",
   "execution_count": 8,
   "id": "961702a2-d312-47f2-93b4-a9d0dd3af27f",
   "metadata": {},
   "outputs": [
    {
     "name": "stderr",
     "output_type": "stream",
     "text": [
      "16:01:41 - cmdstanpy - INFO - CmdStan start processing\n"
     ]
    },
    {
     "data": {
      "application/vnd.jupyter.widget-view+json": {
       "model_id": "bf5ef02cfaf8418f95353a1486df57e6",
       "version_major": 2,
       "version_minor": 0
      },
      "text/plain": [
       "chain 1 |          | 00:00 Status"
      ]
     },
     "metadata": {},
     "output_type": "display_data"
    },
    {
     "data": {
      "application/vnd.jupyter.widget-view+json": {
       "model_id": "6f7112c4a87b45598e84e3faf4d656ef",
       "version_major": 2,
       "version_minor": 0
      },
      "text/plain": [
       "chain 2 |          | 00:00 Status"
      ]
     },
     "metadata": {},
     "output_type": "display_data"
    },
    {
     "data": {
      "application/vnd.jupyter.widget-view+json": {
       "model_id": "18f1bf1d70a54591a32ea5adaec0801b",
       "version_major": 2,
       "version_minor": 0
      },
      "text/plain": [
       "chain 3 |          | 00:00 Status"
      ]
     },
     "metadata": {},
     "output_type": "display_data"
    },
    {
     "data": {
      "application/vnd.jupyter.widget-view+json": {
       "model_id": "96a43b264b3f40ff9fe7d6c8e7b952cb",
       "version_major": 2,
       "version_minor": 0
      },
      "text/plain": [
       "chain 4 |          | 00:00 Status"
      ]
     },
     "metadata": {},
     "output_type": "display_data"
    },
    {
     "name": "stdout",
     "output_type": "stream",
     "text": [
      "                                                                                                                                                                                                                                                                                                                                "
     ]
    },
    {
     "name": "stderr",
     "output_type": "stream",
     "text": [
      "16:01:54 - cmdstanpy - INFO - CmdStan done processing.\n",
      "16:01:54 - cmdstanpy - WARNING - Non-fatal error during sampling:\n",
      "Exception: normal_lpdf: Location parameter is -nan, but must be finite! (in 'model.stan', line 12, column 8 to column 62)\n",
      "\tException: normal_lpdf: Location parameter is -nan, but must be finite! (in 'model.stan', line 12, column 8 to column 62)\n",
      "\tException: normal_lpdf: Location parameter is -nan, but must be finite! (in 'model.stan', line 12, column 8 to column 62)\n",
      "\tException: normal_lpdf: Location parameter is -nan, but must be finite! (in 'model.stan', line 12, column 8 to column 62)\n",
      "Exception: normal_lpdf: Location parameter is -nan, but must be finite! (in 'model.stan', line 12, column 8 to column 62)\n",
      "Consider re-running with show_console=True if the above output is unclear!\n"
     ]
    },
    {
     "name": "stdout",
     "output_type": "stream",
     "text": [
      "\n"
     ]
    },
    {
     "name": "stderr",
     "output_type": "stream",
     "text": [
      "16:01:54 - cmdstanpy - WARNING - Some chains may have failed to converge.\n",
      "\tChain 3 had 1888 divergent transitions (94.4%)\n",
      "\tUse the \"diagnose()\" method on the CmdStanMCMC object to see further information.\n"
     ]
    }
   ],
   "source": [
    "fit=model.sample(data=data,seed=1234,iter_warmup=1000,iter_sampling=2000)"
   ]
  },
  {
   "cell_type": "code",
   "execution_count": 9,
   "id": "6e3c8aed-4621-44c8-8745-fcb088690256",
   "metadata": {},
   "outputs": [
    {
     "data": {
      "text/html": [
       "<div>\n",
       "<style scoped>\n",
       "    .dataframe tbody tr th:only-of-type {\n",
       "        vertical-align: middle;\n",
       "    }\n",
       "\n",
       "    .dataframe tbody tr th {\n",
       "        vertical-align: top;\n",
       "    }\n",
       "\n",
       "    .dataframe thead th {\n",
       "        text-align: right;\n",
       "    }\n",
       "</style>\n",
       "<table border=\"1\" class=\"dataframe\">\n",
       "  <thead>\n",
       "    <tr style=\"text-align: right;\">\n",
       "      <th></th>\n",
       "      <th>Mean</th>\n",
       "      <th>MCSE</th>\n",
       "      <th>StdDev</th>\n",
       "      <th>MAD</th>\n",
       "      <th>5%</th>\n",
       "      <th>50%</th>\n",
       "      <th>95%</th>\n",
       "      <th>ESS_bulk</th>\n",
       "      <th>ESS_tail</th>\n",
       "      <th>R_hat</th>\n",
       "    </tr>\n",
       "  </thead>\n",
       "  <tbody>\n",
       "    <tr>\n",
       "      <th>lp__</th>\n",
       "      <td>1186.880000</td>\n",
       "      <td>2137.500000</td>\n",
       "      <td>3026.220000</td>\n",
       "      <td>1.793950</td>\n",
       "      <td>-4234.540000</td>\n",
       "      <td>2932.960000</td>\n",
       "      <td>2934.48000</td>\n",
       "      <td>6.68384</td>\n",
       "      <td>4000.0</td>\n",
       "      <td>1.59866</td>\n",
       "    </tr>\n",
       "    <tr>\n",
       "      <th>k</th>\n",
       "      <td>0.315269</td>\n",
       "      <td>0.372173</td>\n",
       "      <td>0.544221</td>\n",
       "      <td>0.000080</td>\n",
       "      <td>0.013833</td>\n",
       "      <td>0.013930</td>\n",
       "      <td>1.50618</td>\n",
       "      <td>6.67919</td>\n",
       "      <td>4000.0</td>\n",
       "      <td>1.59643</td>\n",
       "    </tr>\n",
       "    <tr>\n",
       "      <th>x0</th>\n",
       "      <td>906.557000</td>\n",
       "      <td>120.037000</td>\n",
       "      <td>182.159000</td>\n",
       "      <td>0.452193</td>\n",
       "      <td>471.884000</td>\n",
       "      <td>1002.800000</td>\n",
       "      <td>1003.36000</td>\n",
       "      <td>6.67020</td>\n",
       "      <td>4000.0</td>\n",
       "      <td>1.59888</td>\n",
       "    </tr>\n",
       "    <tr>\n",
       "      <th>sigma_y</th>\n",
       "      <td>1.657440</td>\n",
       "      <td>1.857120</td>\n",
       "      <td>2.628340</td>\n",
       "      <td>0.003560</td>\n",
       "      <td>0.136724</td>\n",
       "      <td>0.141004</td>\n",
       "      <td>6.21265</td>\n",
       "      <td>6.73689</td>\n",
       "      <td>4000.0</td>\n",
       "      <td>1.59032</td>\n",
       "    </tr>\n",
       "    <tr>\n",
       "      <th>y_new[1]</th>\n",
       "      <td>0.002576</td>\n",
       "      <td>0.035359</td>\n",
       "      <td>3.078140</td>\n",
       "      <td>0.200436</td>\n",
       "      <td>-5.215090</td>\n",
       "      <td>-0.008679</td>\n",
       "      <td>5.21057</td>\n",
       "      <td>8072.23000</td>\n",
       "      <td>4000.0</td>\n",
       "      <td>1.48683</td>\n",
       "    </tr>\n",
       "    <tr>\n",
       "      <th>...</th>\n",
       "      <td>...</td>\n",
       "      <td>...</td>\n",
       "      <td>...</td>\n",
       "      <td>...</td>\n",
       "      <td>...</td>\n",
       "      <td>...</td>\n",
       "      <td>...</td>\n",
       "      <td>...</td>\n",
       "      <td>...</td>\n",
       "      <td>...</td>\n",
       "    </tr>\n",
       "    <tr>\n",
       "      <th>y_new[1997]</th>\n",
       "      <td>9.945200</td>\n",
       "      <td>0.036011</td>\n",
       "      <td>3.091220</td>\n",
       "      <td>0.198668</td>\n",
       "      <td>4.674700</td>\n",
       "      <td>10.002800</td>\n",
       "      <td>15.01580</td>\n",
       "      <td>7719.19000</td>\n",
       "      <td>4000.0</td>\n",
       "      <td>1.48179</td>\n",
       "    </tr>\n",
       "    <tr>\n",
       "      <th>y_new[1998]</th>\n",
       "      <td>9.965540</td>\n",
       "      <td>0.033349</td>\n",
       "      <td>3.095140</td>\n",
       "      <td>0.198639</td>\n",
       "      <td>4.655350</td>\n",
       "      <td>9.996540</td>\n",
       "      <td>15.14330</td>\n",
       "      <td>8085.77000</td>\n",
       "      <td>4000.0</td>\n",
       "      <td>1.47789</td>\n",
       "    </tr>\n",
       "    <tr>\n",
       "      <th>y_new[1999]</th>\n",
       "      <td>9.954890</td>\n",
       "      <td>0.034641</td>\n",
       "      <td>3.091890</td>\n",
       "      <td>0.196296</td>\n",
       "      <td>4.589490</td>\n",
       "      <td>9.998460</td>\n",
       "      <td>15.08120</td>\n",
       "      <td>8054.80000</td>\n",
       "      <td>4000.0</td>\n",
       "      <td>1.48517</td>\n",
       "    </tr>\n",
       "    <tr>\n",
       "      <th>y_new[2000]</th>\n",
       "      <td>10.025400</td>\n",
       "      <td>0.034685</td>\n",
       "      <td>3.055850</td>\n",
       "      <td>0.199410</td>\n",
       "      <td>4.924100</td>\n",
       "      <td>10.001100</td>\n",
       "      <td>15.22610</td>\n",
       "      <td>7441.76000</td>\n",
       "      <td>4000.0</td>\n",
       "      <td>1.47578</td>\n",
       "    </tr>\n",
       "    <tr>\n",
       "      <th>y_new[2001]</th>\n",
       "      <td>10.031100</td>\n",
       "      <td>0.037344</td>\n",
       "      <td>3.073430</td>\n",
       "      <td>0.203331</td>\n",
       "      <td>4.959360</td>\n",
       "      <td>10.002000</td>\n",
       "      <td>14.99670</td>\n",
       "      <td>6749.38000</td>\n",
       "      <td>4000.0</td>\n",
       "      <td>1.48400</td>\n",
       "    </tr>\n",
       "  </tbody>\n",
       "</table>\n",
       "<p>2005 rows × 10 columns</p>\n",
       "</div>"
      ],
      "text/plain": [
       "                    Mean         MCSE       StdDev       MAD           5%  \\\n",
       "lp__         1186.880000  2137.500000  3026.220000  1.793950 -4234.540000   \n",
       "k               0.315269     0.372173     0.544221  0.000080     0.013833   \n",
       "x0            906.557000   120.037000   182.159000  0.452193   471.884000   \n",
       "sigma_y         1.657440     1.857120     2.628340  0.003560     0.136724   \n",
       "y_new[1]        0.002576     0.035359     3.078140  0.200436    -5.215090   \n",
       "...                  ...          ...          ...       ...          ...   \n",
       "y_new[1997]     9.945200     0.036011     3.091220  0.198668     4.674700   \n",
       "y_new[1998]     9.965540     0.033349     3.095140  0.198639     4.655350   \n",
       "y_new[1999]     9.954890     0.034641     3.091890  0.196296     4.589490   \n",
       "y_new[2000]    10.025400     0.034685     3.055850  0.199410     4.924100   \n",
       "y_new[2001]    10.031100     0.037344     3.073430  0.203331     4.959360   \n",
       "\n",
       "                     50%         95%    ESS_bulk  ESS_tail    R_hat  \n",
       "lp__         2932.960000  2934.48000     6.68384    4000.0  1.59866  \n",
       "k               0.013930     1.50618     6.67919    4000.0  1.59643  \n",
       "x0           1002.800000  1003.36000     6.67020    4000.0  1.59888  \n",
       "sigma_y         0.141004     6.21265     6.73689    4000.0  1.59032  \n",
       "y_new[1]       -0.008679     5.21057  8072.23000    4000.0  1.48683  \n",
       "...                  ...         ...         ...       ...      ...  \n",
       "y_new[1997]    10.002800    15.01580  7719.19000    4000.0  1.48179  \n",
       "y_new[1998]     9.996540    15.14330  8085.77000    4000.0  1.47789  \n",
       "y_new[1999]     9.998460    15.08120  8054.80000    4000.0  1.48517  \n",
       "y_new[2000]    10.001100    15.22610  7441.76000    4000.0  1.47578  \n",
       "y_new[2001]    10.002000    14.99670  6749.38000    4000.0  1.48400  \n",
       "\n",
       "[2005 rows x 10 columns]"
      ]
     },
     "execution_count": 9,
     "metadata": {},
     "output_type": "execute_result"
    }
   ],
   "source": [
    "fit.summary()"
   ]
  },
  {
   "cell_type": "code",
   "execution_count": 10,
   "id": "163ebd8a-681f-412b-a2df-121c36539ada",
   "metadata": {},
   "outputs": [
    {
     "data": {
      "text/plain": [
       "array([[<Axes: title={'center': 'k'}>, <Axes: title={'center': 'k'}>],\n",
       "       [<Axes: title={'center': 'x0'}>, <Axes: title={'center': 'x0'}>]],\n",
       "      dtype=object)"
      ]
     },
     "execution_count": 10,
     "metadata": {},
     "output_type": "execute_result"
    },
    {
     "data": {
      "image/png": "[encoded data removed]",
      "text/plain": [
       "<Figure size 1600x900 with 4 Axes>"
      ]
     },
     "metadata": {},
     "output_type": "display_data"
    }
   ],
   "source": [
    "x=arviz.from_cmdstanpy(fit)\n",
    "arviz.plot_trace(x,var_names=[\"k\",\"x0\"],figsize=(16,9))"
   ]
  },
  {
   "cell_type": "code",
   "execution_count": null,
   "id": "8b1f3a46-2f78-4085-914a-f8de8a7611ce",
   "metadata": {},
   "outputs": [],
   "source": []
  }
 ],
 "metadata": {
  "kernelspec": {
   "display_name": "Python 3 (ipykernel)",
   "language": "python",
   "name": "python3"
  },
  "language_info": {
   "codemirror_mode": {
    "name": "ipython",
    "version": 3
   },
   "file_extension": ".py",
   "mimetype": "text/x-python",
   "name": "python",
   "nbconvert_exporter": "python",
   "pygments_lexer": "ipython3",
   "version": "3.11.13"
  }
 },
 "nbformat": 4,
 "nbformat_minor": 5
}
