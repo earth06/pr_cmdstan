{
 "cells": [
  {
   "cell_type": "markdown",
   "id": "ddb582b3-a24b-462e-a4f4-849030713148",
   "metadata": {},
   "source": [
    "# 統計モデルでシグモイド+線形+２次関数の合成関数の切り替え点を求める"
   ]
  },
  {
   "cell_type": "code",
   "execution_count": 2,
   "id": "cd097f82-acb2-418b-b578-9d955b74cf55",
   "metadata": {},
   "outputs": [],
   "source": [
    "import cmdstanpy\n",
    "import pandas as pd\n",
    "import matplotlib.pyplot as plt\n",
    "import numpy as np\n",
    "import cmdstanjupyter\n",
    "import arviz\n",
    "plt.style.use(\"ggplot\")"
   ]
  },
  {
   "cell_type": "code",
   "execution_count": 3,
   "id": "2b09c723-0e33-4acb-be40-8e018fc2689c",
   "metadata": {},
   "outputs": [],
   "source": [
    "# cmdstanpy.install_cmdstan()"
   ]
  },
  {
   "cell_type": "code",
   "execution_count": 4,
   "id": "587e238e-b7e7-426b-86cc-3d2755eee988",
   "metadata": {},
   "outputs": [],
   "source": [
    "%load_ext cmdstanjupyter"
   ]
  },
  {
   "cell_type": "code",
   "execution_count": 16,
   "id": "7e230a73-8178-499e-8bd5-02ddcb607845",
   "metadata": {},
   "outputs": [],
   "source": [
    "df = pd.read_parquet(\"../../customdataset/accum_curve_sigmoid_linear_quad.parquet\")"
   ]
  },
  {
   "cell_type": "code",
   "execution_count": 19,
   "id": "0a5a9a8d-4bb8-4f92-a8fd-4d5b1e3aafd8",
   "metadata": {},
   "outputs": [],
   "source": [
    "df_sel = df.query(\"hour==0\").copy()\n",
    "df_sel[\"x_scale\"] = df_sel[\"x\"]/100"
   ]
  },
  {
   "cell_type": "code",
   "execution_count": 20,
   "id": "0ebe771e-c15b-4531-ad68-bf24e746b560",
   "metadata": {},
   "outputs": [
    {
     "data": {
      "text/plain": [
       "(0.0, 50.0)"
      ]
     },
     "execution_count": 20,
     "metadata": {},
     "output_type": "execute_result"
    },
    {
     "data": {
      "image/png": "[encoded data removed]",
      "text/plain": [
       "<Figure size 1200x500 with 1 Axes>"
      ]
     },
     "metadata": {},
     "output_type": "display_data"
    }
   ],
   "source": [
    "fig, ax = plt.subplots(figsize=(12,5))\n",
    "ax.plot(df_sel[\"x_scale\"], df_sel[\"y\"])\n",
    "ax.set_ylim(0,50)"
   ]
  },
  {
   "cell_type": "code",
   "execution_count": 68,
   "id": "0eadfdfe-1134-4f32-97cb-9599e6d72752",
   "metadata": {},
   "outputs": [
    {
     "name": "stderr",
     "output_type": "stream",
     "text": [
      "INFO:cmdstanjupyter:Creating CmdStanPy model & assigning it to variable \"sigmoid_linear_quad\"\n",
      "01:43:03 - cmdstanpy - INFO - compiling stan file /home/oonishi/Git/pr_cmdstan/NoteBook/accum_curve_fitting/.stan/sigmoid_linear_quad.stan to exe file /home/oonishi/Git/pr_cmdstan/NoteBook/accum_curve_fitting/.stan/sigmoid_linear_quad\n",
      "01:43:19 - cmdstanpy - INFO - compiled model executable: /home/oonishi/Git/pr_cmdstan/NoteBook/accum_curve_fitting/.stan/sigmoid_linear_quad\n",
      "INFO:cmdstanjupyter:StanModel now available as variable \"sigmoid_linear_quad\"!\n",
      " Compilation took 16 seconds.\n"
     ]
    }
   ],
   "source": [
    "%%stan sigmoid_linear_quad\n",
    "data {\n",
    "    int N_X;\n",
    "    vector[N_X] X;\n",
    "    vector[N_X] y_price;           // 0..10 を想定\n",
    "}\n",
    "parameters {\n",
    "    real<lower=5,upper=15> a;\n",
    "    real<lower=0,upper=1.1> x0;  // シグモイド区間の変曲点\n",
    "    real<lower=1e-6> sigma_y;      // 0 を避ける\n",
    "    real<lower=1e-6,upper=1> delta;        // 中腹幅の下限（要調整）\n",
    "    // 線形区間のパラメータ\n",
    "    real<lower=1,upper=5> x1;\n",
    "    real<lower=0.1,upper=5> alpha;\n",
    "    // ２次関数区間のパラメータ\n",
    "    real <lower=1> c1;\n",
    "    real <lower=-500, upper=500>c2;\n",
    "    real <lower=4,upper=8> x2;\n",
    "}\n",
    "transformed parameters {\n",
    "    real k = (2.0 * log(9)) / delta;\n",
    "    real c3 = -c1*x2*x2 -  c2*x2 +alpha*(x2-x1);\n",
    "}\n",
    "model {\n",
    "    // 弱情報の事前（必要に応じて調整）\n",
    "    a       ~ normal(9, 5);               // 上下限が 0..10 なら a≃10 付近\n",
    "    sigma_y ~ normal(0, 1);\n",
    "    vector[N_X] mu;\n",
    "    mu =  a*inv_logit(k*(X-x0)) \n",
    "        + inv_logit(10*(X-x1)).*inv_logit(-10*(X-x2)).*(alpha*(X-x1))\n",
    "        + inv_logit(10*(X-x2)).* (c1*X.*X + c2*X + c3);\n",
    "    y_price ~ normal(mu, sigma_y);\n",
    "  }\n",
    "\n",
    "generated quantities {\n",
    "    vector[N_X] y_new;\n",
    "    vector[N_X] mu_new;\n",
    "   \n",
    "    for (n in 1:N_X)\n",
    "    {\n",
    "        mu_new[n] =  a*inv_logit(k*(X[n]-x0)) \n",
    "            + inv_logit(10*(X[n]-x1))*inv_logit(-10*(X[n]-x2))*(alpha*(X[n]-x1))\n",
    "            + inv_logit(10*(X[n]-x2))* (c1*X[n]*X[n] + c2*X[n] + c3);\n",
    "        y_new[n] = normal_rng(mu_new[n], sigma_y);\n",
    "    }\n",
    "}"
   ]
  },
  {
   "cell_type": "code",
   "execution_count": 66,
   "id": "63cf11f1-9318-413b-ba10-8e13e0bffa8b",
   "metadata": {},
   "outputs": [
    {
     "ename": "ValueError",
     "evalue": "Failed to get source info for Stan model '/home/oonishi/Git/pr_cmdstan/NoteBook/accum_curve_fitting/.stan/sigmoid_linear_quad.stan'. Console:\nSemantic error in '/home/oonishi/Git/pr_cmdstan/NoteBook/accum_curve_fitting/.stan/sigmoid_linear_quad.stan', line 40, column 8 to column 10:\n   -------------------------------------------------\n    38:      for (n in 1:N_X)\n    39:      {\n    40:          mu =  a*inv_logit(k*(X[n]-x0)) \n                 ^\n    41:              + inv_logit(10*(X[n]-x1))*inv_logit(-10*(X[n]-x2))*(alpha*(X[n]-x1))\n    42:              + inv_logit(10*(X[n]-x2))* (c1*X[n]*X[n] + c2*X[n] + c3);\n   -------------------------------------------------\n\nIdentifier 'mu' not in scope. Did you mean 'X'?\n",
     "output_type": "error",
     "traceback": [
      "\u001b[31m---------------------------------------------------------------------------\u001b[39m",
      "\u001b[31mValueError\u001b[39m                                Traceback (most recent call last)",
      "\u001b[36mCell\u001b[39m\u001b[36m \u001b[39m\u001b[32mIn[66]\u001b[39m\u001b[32m, line 1\u001b[39m\n\u001b[32m----> \u001b[39m\u001b[32m1\u001b[39m model = \u001b[43mcmdstanpy\u001b[49m\u001b[43m.\u001b[49m\u001b[43mCmdStanModel\u001b[49m\u001b[43m(\u001b[49m\u001b[43mstan_file\u001b[49m\u001b[43m=\u001b[49m\u001b[33;43m\"\u001b[39;49m\u001b[33;43m./.stan/sigmoid_linear_quad.stan\u001b[39;49m\u001b[33;43m\"\u001b[39;49m\u001b[43m)\u001b[49m\n",
      "\u001b[36mFile \u001b[39m\u001b[32m~/py311env/lib/python3.11/site-packages/cmdstanpy/model.py:257\u001b[39m, in \u001b[36mCmdStanModel.__init__\u001b[39m\u001b[34m(self, model_name, stan_file, exe_file, force_compile, stanc_options, cpp_options, user_header, compile)\u001b[39m\n\u001b[32m    254\u001b[39m         get_logger().debug(\u001b[33m\"\u001b[39m\u001b[33mTBB already found in load path\u001b[39m\u001b[33m\"\u001b[39m)\n\u001b[32m    256\u001b[39m \u001b[38;5;28;01mif\u001b[39;00m \u001b[38;5;28mcompile\u001b[39m \u001b[38;5;129;01mand\u001b[39;00m \u001b[38;5;28mself\u001b[39m._exe_file \u001b[38;5;129;01mis\u001b[39;00m \u001b[38;5;28;01mNone\u001b[39;00m:\n\u001b[32m--> \u001b[39m\u001b[32m257\u001b[39m     \u001b[38;5;28;43mself\u001b[39;49m\u001b[43m.\u001b[49m\u001b[43mcompile\u001b[49m\u001b[43m(\u001b[49m\u001b[43mforce\u001b[49m\u001b[43m=\u001b[49m\u001b[38;5;28;43mstr\u001b[39;49m\u001b[43m(\u001b[49m\u001b[38;5;28;43mcompile\u001b[39;49m\u001b[43m)\u001b[49m\u001b[43m.\u001b[49m\u001b[43mlower\u001b[49m\u001b[43m(\u001b[49m\u001b[43m)\u001b[49m\u001b[43m \u001b[49m\u001b[43m==\u001b[49m\u001b[43m \u001b[49m\u001b[33;43m'\u001b[39;49m\u001b[33;43mforce\u001b[39;49m\u001b[33;43m'\u001b[39;49m\u001b[43m,\u001b[49m\u001b[43m \u001b[49m\u001b[43m_internal\u001b[49m\u001b[43m=\u001b[49m\u001b[38;5;28;43;01mTrue\u001b[39;49;00m\u001b[43m)\u001b[49m\n",
      "\u001b[36mFile \u001b[39m\u001b[32m~/py311env/lib/python3.11/site-packages/cmdstanpy/model.py:465\u001b[39m, in \u001b[36mCmdStanModel.compile\u001b[39m\u001b[34m(self, force, stanc_options, cpp_options, user_header, override_options, _internal)\u001b[39m\n\u001b[32m    462\u001b[39m         \u001b[38;5;28;01melse\u001b[39;00m:\n\u001b[32m    463\u001b[39m             \u001b[38;5;28mself\u001b[39m._compiler_options.add(compiler_options)\n\u001b[32m--> \u001b[39m\u001b[32m465\u001b[39m \u001b[38;5;28mself\u001b[39m._exe_file = \u001b[43mcompilation\u001b[49m\u001b[43m.\u001b[49m\u001b[43mcompile_stan_file\u001b[49m\u001b[43m(\u001b[49m\n\u001b[32m    466\u001b[39m \u001b[43m    \u001b[49m\u001b[38;5;28;43mstr\u001b[39;49m\u001b[43m(\u001b[49m\u001b[38;5;28;43mself\u001b[39;49m\u001b[43m.\u001b[49m\u001b[43mstan_file\u001b[49m\u001b[43m)\u001b[49m\u001b[43m,\u001b[49m\n\u001b[32m    467\u001b[39m \u001b[43m    \u001b[49m\u001b[43mforce\u001b[49m\u001b[43m=\u001b[49m\u001b[43mforce\u001b[49m\u001b[43m,\u001b[49m\n\u001b[32m    468\u001b[39m \u001b[43m    \u001b[49m\u001b[43mstanc_options\u001b[49m\u001b[43m=\u001b[49m\u001b[38;5;28;43mself\u001b[39;49m\u001b[43m.\u001b[49m\u001b[43m_compiler_options\u001b[49m\u001b[43m.\u001b[49m\u001b[43mstanc_options\u001b[49m\u001b[43m,\u001b[49m\n\u001b[32m    469\u001b[39m \u001b[43m    \u001b[49m\u001b[43mcpp_options\u001b[49m\u001b[43m=\u001b[49m\u001b[38;5;28;43mself\u001b[39;49m\u001b[43m.\u001b[49m\u001b[43m_compiler_options\u001b[49m\u001b[43m.\u001b[49m\u001b[43mcpp_options\u001b[49m\u001b[43m,\u001b[49m\n\u001b[32m    470\u001b[39m \u001b[43m    \u001b[49m\u001b[43muser_header\u001b[49m\u001b[43m=\u001b[49m\u001b[38;5;28;43mself\u001b[39;49m\u001b[43m.\u001b[49m\u001b[43m_compiler_options\u001b[49m\u001b[43m.\u001b[49m\u001b[43muser_header\u001b[49m\u001b[43m,\u001b[49m\n\u001b[32m    471\u001b[39m \u001b[43m\u001b[49m\u001b[43m)\u001b[49m\n",
      "\u001b[36mFile \u001b[39m\u001b[32m~/py311env/lib/python3.11/site-packages/cmdstanpy/compilation.py:414\u001b[39m, in \u001b[36mcompile_stan_file\u001b[39m\u001b[34m(src, force, stanc_options, cpp_options, user_header)\u001b[39m\n\u001b[32m    411\u001b[39m exe_time = os.path.getmtime(exe_target)\n\u001b[32m    412\u001b[39m included_files = [src]\n\u001b[32m    413\u001b[39m included_files.extend(\n\u001b[32m--> \u001b[39m\u001b[32m414\u001b[39m     \u001b[43msrc_info\u001b[49m\u001b[43m(\u001b[49m\u001b[38;5;28;43mstr\u001b[39;49m\u001b[43m(\u001b[49m\u001b[43msrc\u001b[49m\u001b[43m)\u001b[49m\u001b[43m,\u001b[49m\u001b[43m \u001b[49m\u001b[43mcompiler_options\u001b[49m\u001b[43m)\u001b[49m.get(\u001b[33m'\u001b[39m\u001b[33mincluded_files\u001b[39m\u001b[33m'\u001b[39m, [])\n\u001b[32m    415\u001b[39m )\n\u001b[32m    416\u001b[39m out_of_date = \u001b[38;5;28many\u001b[39m(\n\u001b[32m    417\u001b[39m     os.path.getmtime(included_file) > exe_time\n\u001b[32m    418\u001b[39m     \u001b[38;5;28;01mfor\u001b[39;00m included_file \u001b[38;5;129;01min\u001b[39;00m included_files\n\u001b[32m    419\u001b[39m )\n\u001b[32m    420\u001b[39m \u001b[38;5;28;01mif\u001b[39;00m \u001b[38;5;129;01mnot\u001b[39;00m out_of_date \u001b[38;5;129;01mand\u001b[39;00m \u001b[38;5;129;01mnot\u001b[39;00m force:\n",
      "\u001b[36mFile \u001b[39m\u001b[32m~/py311env/lib/python3.11/site-packages/cmdstanpy/compilation.py:361\u001b[39m, in \u001b[36msrc_info\u001b[39m\u001b[34m(stan_file, compiler_options)\u001b[39m\n\u001b[32m    359\u001b[39m proc = subprocess.run(cmd, capture_output=\u001b[38;5;28;01mTrue\u001b[39;00m, text=\u001b[38;5;28;01mTrue\u001b[39;00m, check=\u001b[38;5;28;01mFalse\u001b[39;00m)\n\u001b[32m    360\u001b[39m \u001b[38;5;28;01mif\u001b[39;00m proc.returncode:\n\u001b[32m--> \u001b[39m\u001b[32m361\u001b[39m     \u001b[38;5;28;01mraise\u001b[39;00m \u001b[38;5;167;01mValueError\u001b[39;00m(\n\u001b[32m    362\u001b[39m         \u001b[33mf\u001b[39m\u001b[33m\"\u001b[39m\u001b[33mFailed to get source info for Stan model \u001b[39m\u001b[33m\"\u001b[39m\n\u001b[32m    363\u001b[39m         \u001b[33mf\u001b[39m\u001b[33m\"\u001b[39m\u001b[33m'\u001b[39m\u001b[38;5;132;01m{\u001b[39;00mstan_file\u001b[38;5;132;01m}\u001b[39;00m\u001b[33m'\u001b[39m\u001b[33m. Console:\u001b[39m\u001b[38;5;130;01m\\n\u001b[39;00m\u001b[38;5;132;01m{\u001b[39;00mproc.stderr\u001b[38;5;132;01m}\u001b[39;00m\u001b[33m\"\u001b[39m\n\u001b[32m    364\u001b[39m     )\n\u001b[32m    365\u001b[39m result: Dict[\u001b[38;5;28mstr\u001b[39m, Any] = json.loads(proc.stdout)\n\u001b[32m    366\u001b[39m \u001b[38;5;28;01mreturn\u001b[39;00m result\n",
      "\u001b[31mValueError\u001b[39m: Failed to get source info for Stan model '/home/oonishi/Git/pr_cmdstan/NoteBook/accum_curve_fitting/.stan/sigmoid_linear_quad.stan'. Console:\nSemantic error in '/home/oonishi/Git/pr_cmdstan/NoteBook/accum_curve_fitting/.stan/sigmoid_linear_quad.stan', line 40, column 8 to column 10:\n   -------------------------------------------------\n    38:      for (n in 1:N_X)\n    39:      {\n    40:          mu =  a*inv_logit(k*(X[n]-x0)) \n                 ^\n    41:              + inv_logit(10*(X[n]-x1))*inv_logit(-10*(X[n]-x2))*(alpha*(X[n]-x1))\n    42:              + inv_logit(10*(X[n]-x2))* (c1*X[n]*X[n] + c2*X[n] + c3);\n   -------------------------------------------------\n\nIdentifier 'mu' not in scope. Did you mean 'X'?\n"
     ]
    }
   ],
   "source": [
    "model = cmdstanpy.CmdStanModel(stan_file=\"./.stan/sigmoid_linear_quad.stan\")"
   ]
  },
  {
   "cell_type": "code",
   "execution_count": 52,
   "id": "560de25b-09a2-42cc-9371-9c93c8a05aa9",
   "metadata": {},
   "outputs": [],
   "source": [
    "df_sel = df[df[\"hour\"].isin([0])]"
   ]
  },
  {
   "cell_type": "code",
   "execution_count": 53,
   "id": "c6c4484e-d325-404d-9de9-9a9f7b797f25",
   "metadata": {},
   "outputs": [
    {
     "name": "stderr",
     "output_type": "stream",
     "text": [
      "/tmp/ipykernel_1751/354240167.py:1: SettingWithCopyWarning: \n",
      "A value is trying to be set on a copy of a slice from a DataFrame.\n",
      "Try using .loc[row_indexer,col_indexer] = value instead\n",
      "\n",
      "See the caveats in the documentation: https://pandas.pydata.org/pandas-docs/stable/user_guide/indexing.html#returning-a-view-versus-a-copy\n",
      "  df_sel[\"x_scale\"] = df_sel[\"x\"] /100\n"
     ]
    },
    {
     "data": {
      "text/html": [
       "<div>\n",
       "<style scoped>\n",
       "    .dataframe tbody tr th:only-of-type {\n",
       "        vertical-align: middle;\n",
       "    }\n",
       "\n",
       "    .dataframe tbody tr th {\n",
       "        vertical-align: top;\n",
       "    }\n",
       "\n",
       "    .dataframe thead th {\n",
       "        text-align: right;\n",
       "    }\n",
       "</style>\n",
       "<table border=\"1\" class=\"dataframe\">\n",
       "  <thead>\n",
       "    <tr style=\"text-align: right;\">\n",
       "      <th></th>\n",
       "      <th>x</th>\n",
       "      <th>y</th>\n",
       "      <th>phase</th>\n",
       "      <th>hour</th>\n",
       "      <th>p_sat</th>\n",
       "      <th>x_scale</th>\n",
       "    </tr>\n",
       "  </thead>\n",
       "  <tbody>\n",
       "    <tr>\n",
       "      <th>0</th>\n",
       "      <td>0</td>\n",
       "      <td>0.000000</td>\n",
       "      <td>sigmoid</td>\n",
       "      <td>0</td>\n",
       "      <td>189.0</td>\n",
       "      <td>0.00</td>\n",
       "    </tr>\n",
       "    <tr>\n",
       "      <th>1</th>\n",
       "      <td>1</td>\n",
       "      <td>0.012181</td>\n",
       "      <td>sigmoid</td>\n",
       "      <td>0</td>\n",
       "      <td>189.0</td>\n",
       "      <td>0.01</td>\n",
       "    </tr>\n",
       "    <tr>\n",
       "      <th>2</th>\n",
       "      <td>2</td>\n",
       "      <td>0.012181</td>\n",
       "      <td>sigmoid</td>\n",
       "      <td>0</td>\n",
       "      <td>189.0</td>\n",
       "      <td>0.02</td>\n",
       "    </tr>\n",
       "    <tr>\n",
       "      <th>3</th>\n",
       "      <td>3</td>\n",
       "      <td>0.012181</td>\n",
       "      <td>sigmoid</td>\n",
       "      <td>0</td>\n",
       "      <td>189.0</td>\n",
       "      <td>0.03</td>\n",
       "    </tr>\n",
       "    <tr>\n",
       "      <th>4</th>\n",
       "      <td>4</td>\n",
       "      <td>0.012181</td>\n",
       "      <td>sigmoid</td>\n",
       "      <td>0</td>\n",
       "      <td>189.0</td>\n",
       "      <td>0.04</td>\n",
       "    </tr>\n",
       "    <tr>\n",
       "      <th>...</th>\n",
       "      <td>...</td>\n",
       "      <td>...</td>\n",
       "      <td>...</td>\n",
       "      <td>...</td>\n",
       "      <td>...</td>\n",
       "      <td>...</td>\n",
       "    </tr>\n",
       "    <tr>\n",
       "      <th>797</th>\n",
       "      <td>796</td>\n",
       "      <td>241.847988</td>\n",
       "      <td>quadratic</td>\n",
       "      <td>0</td>\n",
       "      <td>189.0</td>\n",
       "      <td>7.96</td>\n",
       "    </tr>\n",
       "    <tr>\n",
       "      <th>798</th>\n",
       "      <td>797</td>\n",
       "      <td>241.847988</td>\n",
       "      <td>quadratic</td>\n",
       "      <td>0</td>\n",
       "      <td>189.0</td>\n",
       "      <td>7.97</td>\n",
       "    </tr>\n",
       "    <tr>\n",
       "      <th>799</th>\n",
       "      <td>798</td>\n",
       "      <td>241.847988</td>\n",
       "      <td>quadratic</td>\n",
       "      <td>0</td>\n",
       "      <td>189.0</td>\n",
       "      <td>7.98</td>\n",
       "    </tr>\n",
       "    <tr>\n",
       "      <th>800</th>\n",
       "      <td>799</td>\n",
       "      <td>241.847988</td>\n",
       "      <td>quadratic</td>\n",
       "      <td>0</td>\n",
       "      <td>189.0</td>\n",
       "      <td>7.99</td>\n",
       "    </tr>\n",
       "    <tr>\n",
       "      <th>801</th>\n",
       "      <td>800</td>\n",
       "      <td>246.140333</td>\n",
       "      <td>quadratic</td>\n",
       "      <td>0</td>\n",
       "      <td>189.0</td>\n",
       "      <td>8.00</td>\n",
       "    </tr>\n",
       "  </tbody>\n",
       "</table>\n",
       "<p>802 rows × 6 columns</p>\n",
       "</div>"
      ],
      "text/plain": [
       "       x           y      phase  hour  p_sat  x_scale\n",
       "0      0    0.000000    sigmoid     0  189.0     0.00\n",
       "1      1    0.012181    sigmoid     0  189.0     0.01\n",
       "2      2    0.012181    sigmoid     0  189.0     0.02\n",
       "3      3    0.012181    sigmoid     0  189.0     0.03\n",
       "4      4    0.012181    sigmoid     0  189.0     0.04\n",
       "..   ...         ...        ...   ...    ...      ...\n",
       "797  796  241.847988  quadratic     0  189.0     7.96\n",
       "798  797  241.847988  quadratic     0  189.0     7.97\n",
       "799  798  241.847988  quadratic     0  189.0     7.98\n",
       "800  799  241.847988  quadratic     0  189.0     7.99\n",
       "801  800  246.140333  quadratic     0  189.0     8.00\n",
       "\n",
       "[802 rows x 6 columns]"
      ]
     },
     "execution_count": 53,
     "metadata": {},
     "output_type": "execute_result"
    }
   ],
   "source": [
    "df_sel[\"x_scale\"] = df_sel[\"x\"] /100\n",
    "df_sel"
   ]
  },
  {
   "cell_type": "code",
   "execution_count": 70,
   "id": "e0191f37-8639-4bae-ae35-f7d178a91bb9",
   "metadata": {},
   "outputs": [],
   "source": [
    "data = {\n",
    "    \"N_X\":len(df_sel),\n",
    "    \"X\":df_sel[\"x_scale\"].values,\n",
    "    \"y_price\":df_sel[\"y\"].values\n",
    "}"
   ]
  },
  {
   "cell_type": "code",
   "execution_count": 71,
   "id": "d0d0c9aa-2aac-4f7b-8a7e-13b742ccff81",
   "metadata": {},
   "outputs": [
    {
     "name": "stderr",
     "output_type": "stream",
     "text": [
      "01:43:58 - cmdstanpy - INFO - CmdStan start processing\n"
     ]
    },
    {
     "data": {
      "application/vnd.jupyter.widget-view+json": {
       "model_id": "df7c1d24781a47b5983c051c387acba0",
       "version_major": 2,
       "version_minor": 0
      },
      "text/plain": [
       "chain 1 |          | 00:00 Status"
      ]
     },
     "metadata": {},
     "output_type": "display_data"
    },
    {
     "data": {
      "application/vnd.jupyter.widget-view+json": {
       "model_id": "f75894dd7e9e4e76b31bf755bb6bf05d",
       "version_major": 2,
       "version_minor": 0
      },
      "text/plain": [
       "chain 2 |          | 00:00 Status"
      ]
     },
     "metadata": {},
     "output_type": "display_data"
    },
    {
     "data": {
      "application/vnd.jupyter.widget-view+json": {
       "model_id": "8cd8d19e530e44218a58518bca0764a4",
       "version_major": 2,
       "version_minor": 0
      },
      "text/plain": [
       "chain 3 |          | 00:00 Status"
      ]
     },
     "metadata": {},
     "output_type": "display_data"
    },
    {
     "data": {
      "application/vnd.jupyter.widget-view+json": {
       "model_id": "8f1973e3004648429dd8a0c96ac57eff",
       "version_major": 2,
       "version_minor": 0
      },
      "text/plain": [
       "chain 4 |          | 00:00 Status"
      ]
     },
     "metadata": {},
     "output_type": "display_data"
    },
    {
     "name": "stdout",
     "output_type": "stream",
     "text": [
      "                                                                                                                                                                                                                                                                                                                                "
     ]
    },
    {
     "name": "stderr",
     "output_type": "stream",
     "text": [
      "01:45:33 - cmdstanpy - INFO - CmdStan done processing.\n",
      "01:45:33 - cmdstanpy - WARNING - Non-fatal error during sampling:\n",
      "Exception: normal_lpdf: Location parameter[1] is -nan, but must be finite! (in 'sigmoid_linear_quad.stan', line 31, column 4 to column 34)\n",
      "\tException: normal_lpdf: Location parameter[1] is -nan, but must be finite! (in 'sigmoid_linear_quad.stan', line 31, column 4 to column 34)\n",
      "\tException: normal_lpdf: Location parameter[1] is -nan, but must be finite! (in 'sigmoid_linear_quad.stan', line 31, column 4 to column 34)\n",
      "\tException: normal_lpdf: Location parameter[1] is -nan, but must be finite! (in 'sigmoid_linear_quad.stan', line 31, column 4 to column 34)\n",
      "\tException: normal_lpdf: Location parameter[1] is -nan, but must be finite! (in 'sigmoid_linear_quad.stan', line 31, column 4 to column 34)\n",
      "\tException: normal_lpdf: Location parameter[1] is -nan, but must be finite! (in 'sigmoid_linear_quad.stan', line 31, column 4 to column 34)\n",
      "\tException: normal_lpdf: Location parameter[1] is -nan, but must be finite! (in 'sigmoid_linear_quad.stan', line 31, column 4 to column 34)\n",
      "\tException: normal_lpdf: Location parameter[1] is -nan, but must be finite! (in 'sigmoid_linear_quad.stan', line 31, column 4 to column 34)\n",
      "\tException: normal_lpdf: Location parameter[1] is -nan, but must be finite! (in 'sigmoid_linear_quad.stan', line 31, column 4 to column 34)\n",
      "Exception: normal_lpdf: Location parameter[1] is -nan, but must be finite! (in 'sigmoid_linear_quad.stan', line 31, column 4 to column 34)\n",
      "\tException: normal_lpdf: Location parameter[1] is -nan, but must be finite! (in 'sigmoid_linear_quad.stan', line 31, column 4 to column 34)\n",
      "\tException: normal_lpdf: Location parameter[1] is -nan, but must be finite! (in 'sigmoid_linear_quad.stan', line 31, column 4 to column 34)\n",
      "\tException: normal_lpdf: Location parameter[1] is -nan, but must be finite! (in 'sigmoid_linear_quad.stan', line 31, column 4 to column 34)\n",
      "\tException: normal_lpdf: Location parameter[1] is -nan, but must be finite! (in 'sigmoid_linear_quad.stan', line 31, column 4 to column 34)\n",
      "\tException: normal_lpdf: Location parameter[1] is -nan, but must be finite! (in 'sigmoid_linear_quad.stan', line 31, column 4 to column 34)\n",
      "Exception: normal_lpdf: Location parameter[1] is -nan, but must be finite! (in 'sigmoid_linear_quad.stan', line 31, column 4 to column 34)\n",
      "\tException: normal_lpdf: Location parameter[1] is -nan, but must be finite! (in 'sigmoid_linear_quad.stan', line 31, column 4 to column 34)\n",
      "\tException: normal_lpdf: Location parameter[1] is -nan, but must be finite! (in 'sigmoid_linear_quad.stan', line 31, column 4 to column 34)\n",
      "\tException: normal_lpdf: Location parameter[1] is -nan, but must be finite! (in 'sigmoid_linear_quad.stan', line 31, column 4 to column 34)\n",
      "\tException: normal_lpdf: Location parameter[1] is -nan, but must be finite! (in 'sigmoid_linear_quad.stan', line 31, column 4 to column 34)\n",
      "Exception: normal_lpdf: Location parameter[1] is -nan, but must be finite! (in 'sigmoid_linear_quad.stan', line 31, column 4 to column 34)\n",
      "\tException: normal_lpdf: Location parameter[1] is -nan, but must be finite! (in 'sigmoid_linear_quad.stan', line 31, column 4 to column 34)\n",
      "\tException: normal_lpdf: Location parameter[1] is -nan, but must be finite! (in 'sigmoid_linear_quad.stan', line 31, column 4 to column 34)\n",
      "\tException: normal_lpdf: Location parameter[1] is -nan, but must be finite! (in 'sigmoid_linear_quad.stan', line 31, column 4 to column 34)\n",
      "\tException: normal_lpdf: Location parameter[1] is -nan, but must be finite! (in 'sigmoid_linear_quad.stan', line 31, column 4 to column 34)\n",
      "\tException: normal_lpdf: Location parameter[1] is -nan, but must be finite! (in 'sigmoid_linear_quad.stan', line 31, column 4 to column 34)\n",
      "Consider re-running with show_console=True if the above output is unclear!\n"
     ]
    },
    {
     "name": "stdout",
     "output_type": "stream",
     "text": [
      "\n"
     ]
    }
   ],
   "source": [
    "fit = sigmoid_linear_quad.sample(data=data,  chains=4, iter_warmup=1000, iter_sampling=1000,seed=1234, adapt_delta=0.9)"
   ]
  },
  {
   "cell_type": "code",
   "execution_count": 72,
   "id": "b6de87a0-5716-4a18-a455-015a609e6baa",
   "metadata": {},
   "outputs": [
    {
     "data": {
      "text/html": [
       "<div>\n",
       "<style scoped>\n",
       "    .dataframe tbody tr th:only-of-type {\n",
       "        vertical-align: middle;\n",
       "    }\n",
       "\n",
       "    .dataframe tbody tr th {\n",
       "        vertical-align: top;\n",
       "    }\n",
       "\n",
       "    .dataframe thead th {\n",
       "        text-align: right;\n",
       "    }\n",
       "</style>\n",
       "<table border=\"1\" class=\"dataframe\">\n",
       "  <thead>\n",
       "    <tr style=\"text-align: right;\">\n",
       "      <th></th>\n",
       "      <th>Mean</th>\n",
       "      <th>MCSE</th>\n",
       "      <th>StdDev</th>\n",
       "      <th>MAD</th>\n",
       "      <th>5%</th>\n",
       "      <th>50%</th>\n",
       "      <th>95%</th>\n",
       "      <th>ESS_bulk</th>\n",
       "      <th>ESS_tail</th>\n",
       "      <th>R_hat</th>\n",
       "    </tr>\n",
       "  </thead>\n",
       "  <tbody>\n",
       "    <tr>\n",
       "      <th>lp__</th>\n",
       "      <td>-270.68400</td>\n",
       "      <td>0.057515</td>\n",
       "      <td>2.221510</td>\n",
       "      <td>2.080090</td>\n",
       "      <td>-274.980000</td>\n",
       "      <td>-270.306000</td>\n",
       "      <td>-267.804000</td>\n",
       "      <td>1562.01</td>\n",
       "      <td>2311.24</td>\n",
       "      <td>1.00233</td>\n",
       "    </tr>\n",
       "    <tr>\n",
       "      <th>a</th>\n",
       "      <td>10.09210</td>\n",
       "      <td>0.003783</td>\n",
       "      <td>0.152252</td>\n",
       "      <td>0.145028</td>\n",
       "      <td>9.836080</td>\n",
       "      <td>10.095900</td>\n",
       "      <td>10.329000</td>\n",
       "      <td>1706.39</td>\n",
       "      <td>1907.97</td>\n",
       "      <td>1.00112</td>\n",
       "    </tr>\n",
       "    <tr>\n",
       "      <th>x0</th>\n",
       "      <td>1.00118</td>\n",
       "      <td>0.000215</td>\n",
       "      <td>0.009762</td>\n",
       "      <td>0.009526</td>\n",
       "      <td>0.985215</td>\n",
       "      <td>1.001200</td>\n",
       "      <td>1.017620</td>\n",
       "      <td>2105.64</td>\n",
       "      <td>2014.53</td>\n",
       "      <td>1.00076</td>\n",
       "    </tr>\n",
       "    <tr>\n",
       "      <th>sigma_y</th>\n",
       "      <td>0.85539</td>\n",
       "      <td>0.000377</td>\n",
       "      <td>0.021266</td>\n",
       "      <td>0.021654</td>\n",
       "      <td>0.821868</td>\n",
       "      <td>0.854760</td>\n",
       "      <td>0.891300</td>\n",
       "      <td>3198.76</td>\n",
       "      <td>2566.84</td>\n",
       "      <td>1.00149</td>\n",
       "    </tr>\n",
       "    <tr>\n",
       "      <th>delta</th>\n",
       "      <td>0.58209</td>\n",
       "      <td>0.000747</td>\n",
       "      <td>0.034713</td>\n",
       "      <td>0.033718</td>\n",
       "      <td>0.525887</td>\n",
       "      <td>0.581275</td>\n",
       "      <td>0.641238</td>\n",
       "      <td>2179.61</td>\n",
       "      <td>2233.37</td>\n",
       "      <td>1.00190</td>\n",
       "    </tr>\n",
       "    <tr>\n",
       "      <th>x1</th>\n",
       "      <td>1.82882</td>\n",
       "      <td>0.002091</td>\n",
       "      <td>0.082941</td>\n",
       "      <td>0.079097</td>\n",
       "      <td>1.692160</td>\n",
       "      <td>1.830850</td>\n",
       "      <td>1.960360</td>\n",
       "      <td>1676.53</td>\n",
       "      <td>1566.11</td>\n",
       "      <td>1.00208</td>\n",
       "    </tr>\n",
       "    <tr>\n",
       "      <th>alpha</th>\n",
       "      <td>2.22492</td>\n",
       "      <td>0.001089</td>\n",
       "      <td>0.053996</td>\n",
       "      <td>0.054915</td>\n",
       "      <td>2.136640</td>\n",
       "      <td>2.225460</td>\n",
       "      <td>2.313700</td>\n",
       "      <td>2477.85</td>\n",
       "      <td>2495.30</td>\n",
       "      <td>1.00038</td>\n",
       "    </tr>\n",
       "    <tr>\n",
       "      <th>c1</th>\n",
       "      <td>20.17950</td>\n",
       "      <td>0.001516</td>\n",
       "      <td>0.071738</td>\n",
       "      <td>0.069682</td>\n",
       "      <td>20.062300</td>\n",
       "      <td>20.179000</td>\n",
       "      <td>20.298200</td>\n",
       "      <td>2250.70</td>\n",
       "      <td>2635.21</td>\n",
       "      <td>1.00054</td>\n",
       "    </tr>\n",
       "    <tr>\n",
       "      <th>c2</th>\n",
       "      <td>-186.41100</td>\n",
       "      <td>0.019799</td>\n",
       "      <td>0.931450</td>\n",
       "      <td>0.911799</td>\n",
       "      <td>-187.950000</td>\n",
       "      <td>-186.404000</td>\n",
       "      <td>-184.892000</td>\n",
       "      <td>2222.25</td>\n",
       "      <td>2461.63</td>\n",
       "      <td>1.00048</td>\n",
       "    </tr>\n",
       "    <tr>\n",
       "      <th>x2</th>\n",
       "      <td>4.97006</td>\n",
       "      <td>0.000318</td>\n",
       "      <td>0.015016</td>\n",
       "      <td>0.014752</td>\n",
       "      <td>4.944570</td>\n",
       "      <td>4.970700</td>\n",
       "      <td>4.993380</td>\n",
       "      <td>2250.96</td>\n",
       "      <td>2643.88</td>\n",
       "      <td>1.00157</td>\n",
       "    </tr>\n",
       "    <tr>\n",
       "      <th>k</th>\n",
       "      <td>7.57639</td>\n",
       "      <td>0.009713</td>\n",
       "      <td>0.453806</td>\n",
       "      <td>0.437152</td>\n",
       "      <td>6.853070</td>\n",
       "      <td>7.560010</td>\n",
       "      <td>8.356260</td>\n",
       "      <td>2179.62</td>\n",
       "      <td>2233.37</td>\n",
       "      <td>1.00190</td>\n",
       "    </tr>\n",
       "    <tr>\n",
       "      <th>c3</th>\n",
       "      <td>434.99200</td>\n",
       "      <td>0.063677</td>\n",
       "      <td>2.978120</td>\n",
       "      <td>2.945180</td>\n",
       "      <td>430.128000</td>\n",
       "      <td>434.974000</td>\n",
       "      <td>439.883000</td>\n",
       "      <td>2200.09</td>\n",
       "      <td>2284.89</td>\n",
       "      <td>1.00082</td>\n",
       "    </tr>\n",
       "  </tbody>\n",
       "</table>\n",
       "</div>"
      ],
      "text/plain": [
       "              Mean      MCSE    StdDev       MAD          5%         50%  \\\n",
       "lp__    -270.68400  0.057515  2.221510  2.080090 -274.980000 -270.306000   \n",
       "a         10.09210  0.003783  0.152252  0.145028    9.836080   10.095900   \n",
       "x0         1.00118  0.000215  0.009762  0.009526    0.985215    1.001200   \n",
       "sigma_y    0.85539  0.000377  0.021266  0.021654    0.821868    0.854760   \n",
       "delta      0.58209  0.000747  0.034713  0.033718    0.525887    0.581275   \n",
       "x1         1.82882  0.002091  0.082941  0.079097    1.692160    1.830850   \n",
       "alpha      2.22492  0.001089  0.053996  0.054915    2.136640    2.225460   \n",
       "c1        20.17950  0.001516  0.071738  0.069682   20.062300   20.179000   \n",
       "c2      -186.41100  0.019799  0.931450  0.911799 -187.950000 -186.404000   \n",
       "x2         4.97006  0.000318  0.015016  0.014752    4.944570    4.970700   \n",
       "k          7.57639  0.009713  0.453806  0.437152    6.853070    7.560010   \n",
       "c3       434.99200  0.063677  2.978120  2.945180  430.128000  434.974000   \n",
       "\n",
       "                95%  ESS_bulk  ESS_tail    R_hat  \n",
       "lp__    -267.804000   1562.01   2311.24  1.00233  \n",
       "a         10.329000   1706.39   1907.97  1.00112  \n",
       "x0         1.017620   2105.64   2014.53  1.00076  \n",
       "sigma_y    0.891300   3198.76   2566.84  1.00149  \n",
       "delta      0.641238   2179.61   2233.37  1.00190  \n",
       "x1         1.960360   1676.53   1566.11  1.00208  \n",
       "alpha      2.313700   2477.85   2495.30  1.00038  \n",
       "c1        20.298200   2250.70   2635.21  1.00054  \n",
       "c2      -184.892000   2222.25   2461.63  1.00048  \n",
       "x2         4.993380   2250.96   2643.88  1.00157  \n",
       "k          8.356260   2179.62   2233.37  1.00190  \n",
       "c3       439.883000   2200.09   2284.89  1.00082  "
      ]
     },
     "execution_count": 72,
     "metadata": {},
     "output_type": "execute_result"
    }
   ],
   "source": [
    "dfres = fit.summary()\n",
    "dfres.head(12)"
   ]
  },
  {
   "cell_type": "code",
   "execution_count": 77,
   "id": "edc2baf3-18a0-438f-af22-45550589ea57",
   "metadata": {},
   "outputs": [],
   "source": [
    "def sigmoid(x):\n",
    "    return 1 / (1+np.exp(-x))\n",
    "\n",
    "def func(x, dfres):\n",
    "    a = dfres.loc[\"a\", \"Mean\"]\n",
    "    x0 = dfres.loc[\"x0\", \"Mean\"]\n",
    "    x1 = dfres.loc[\"x1\", \"Mean\"]\n",
    "    x2 = dfres.loc[\"x2\", \"Mean\"]\n",
    "    c1 = dfres.loc[\"c1\",\"Mean\"]\n",
    "    c2 = dfres.loc[\"c2\",\"Mean\"]\n",
    "    c3 = dfres.loc[\"c3\",\"Mean\"]\n",
    "    k=dfres.loc[\"k\",\"Mean\"]\n",
    "    alpha = dfres.loc[\"alpha\", \"Mean\"]\n",
    "    y1 =  a* sigmoid(k*(x-x0))\n",
    "    y2 =  sigmoid(10*(x-x1))*sigmoid(-10*(x-x2)) * alpha*(x-x1)\n",
    "    y3 = sigmoid(10*(x-x2))*(c1*x**2 + c2*x + c3)\n",
    "    return y1 + y2 + y3"
   ]
  },
  {
   "cell_type": "code",
   "execution_count": 78,
   "id": "88c58bde-29f8-4788-81ec-af2c5b18304f",
   "metadata": {},
   "outputs": [],
   "source": [
    "x = np.arange(0,10,0.1)\n",
    "y = func(x,dfres)"
   ]
  },
  {
   "cell_type": "code",
   "execution_count": 81,
   "id": "5f07efb7-29c8-4a12-aad4-96dd20f23175",
   "metadata": {},
   "outputs": [
    {
     "name": "stderr",
     "output_type": "stream",
     "text": [
      "/tmp/ipykernel_1751/311925609.py:1: SettingWithCopyWarning: \n",
      "A value is trying to be set on a copy of a slice from a DataFrame.\n",
      "Try using .loc[row_indexer,col_indexer] = value instead\n",
      "\n",
      "See the caveats in the documentation: https://pandas.pydata.org/pandas-docs/stable/user_guide/indexing.html#returning-a-view-versus-a-copy\n",
      "  df_sel[\"pred_Mean\"] = dfres.filter(like=\"y_new\",axis=0)[\"Mean\"].values\n",
      "/tmp/ipykernel_1751/311925609.py:2: SettingWithCopyWarning: \n",
      "A value is trying to be set on a copy of a slice from a DataFrame.\n",
      "Try using .loc[row_indexer,col_indexer] = value instead\n",
      "\n",
      "See the caveats in the documentation: https://pandas.pydata.org/pandas-docs/stable/user_guide/indexing.html#returning-a-view-versus-a-copy\n",
      "  df_sel[\"pred_5%\"] = dfres.filter(like=\"y_new\",axis=0)[\"5%\"].values\n",
      "/tmp/ipykernel_1751/311925609.py:3: SettingWithCopyWarning: \n",
      "A value is trying to be set on a copy of a slice from a DataFrame.\n",
      "Try using .loc[row_indexer,col_indexer] = value instead\n",
      "\n",
      "See the caveats in the documentation: https://pandas.pydata.org/pandas-docs/stable/user_guide/indexing.html#returning-a-view-versus-a-copy\n",
      "  df_sel[\"pred_95%\"] = dfres.filter(like=\"y_new\",axis=0)[\"95%\"].values\n"
     ]
    }
   ],
   "source": [
    "df_sel[\"pred_Mean\"] = dfres.filter(like=\"y_new\",axis=0)[\"Mean\"].values\n",
    "df_sel[\"pred_5%\"] = dfres.filter(like=\"y_new\",axis=0)[\"5%\"].values\n",
    "df_sel[\"pred_95%\"] = dfres.filter(like=\"y_new\",axis=0)[\"95%\"].values"
   ]
  },
  {
   "cell_type": "code",
   "execution_count": 86,
   "id": "f4119259-0039-48c9-9579-a5beeef74d87",
   "metadata": {},
   "outputs": [
    {
     "data": {
      "text/plain": [
       "(0.0, 50.0)"
      ]
     },
     "execution_count": 86,
     "metadata": {},
     "output_type": "execute_result"
    },
    {
     "data": {
      "image/png": "[encoded data removed]",
      "text/plain": [
       "<Figure size 900x500 with 1 Axes>"
      ]
     },
     "metadata": {},
     "output_type": "display_data"
    }
   ],
   "source": [
    "fig,ax = plt.subplots(figsize=(9,5))\n",
    "df_sel[[\"y\",\"pred_Mean\"]].plot(ax=ax,color=[\"k\",\"C0\"])\n",
    "ax.fill_between(df_sel.index,df_sel[\"pred_95%\"], df_sel[\"pred_5%\"],alpha=0.5)\n",
    "ax.vlines(dfres.loc[\"x0\",\"Mean\"]*100,0,50,color=\"gray\",ls=\"--\")\n",
    "ax.vlines(dfres.loc[\"x1\",\"Mean\"]*100,0,50, color=\"gray\",ls=\"--\")\n",
    "ax.vlines(dfres.loc[\"x2\",\"Mean\"]*100,0,50, color=\"gray\",ls=\"--\")\n",
    "ax.set_xlim(0,600)\n",
    "ax.set_ylim(0,50)"
   ]
  },
  {
   "cell_type": "code",
   "execution_count": null,
   "id": "62b42f12-ebfa-4038-bd93-3439c671d267",
   "metadata": {},
   "outputs": [],
   "source": []
  }
 ],
 "metadata": {
  "kernelspec": {
   "display_name": "Python 3 (ipykernel)",
   "language": "python",
   "name": "python3"
  },
  "language_info": {
   "codemirror_mode": {
    "name": "ipython",
    "version": 3
   },
   "file_extension": ".py",
   "mimetype": "text/x-python",
   "name": "python",
   "nbconvert_exporter": "python",
   "pygments_lexer": "ipython3",
   "version": "3.11.13"
  }
 },
 "nbformat": 4,
 "nbformat_minor": 5
}
