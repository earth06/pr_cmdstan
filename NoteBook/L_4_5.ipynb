{
 "cells": [
  {
   "cell_type": "code",
   "execution_count": 8,
   "id": "fd6f23ef-fa74-415b-9400-1fca6f34b1bb",
   "metadata": {},
   "outputs": [],
   "source": [
    "import cmdstanpy\n",
    "from cmdstanpy import CmdStanModel"
   ]
  },
  {
   "cell_type": "code",
   "execution_count": null,
   "id": "573e9db2-0661-41f1-beb5-742a58bcff56",
   "metadata": {},
   "outputs": [],
   "source": []
  },
  {
   "cell_type": "code",
   "execution_count": 2,
   "id": "54902bcc-709f-4c7d-9af6-b14b83299b58",
   "metadata": {},
   "outputs": [],
   "source": [
    "%load_ext cmdstanjupyter"
   ]
  },
  {
   "cell_type": "code",
   "execution_count": 22,
   "id": "8bca4f73-c67c-4495-bd2c-cd0ccb03e22c",
   "metadata": {},
   "outputs": [],
   "source": [
    "import pandas as pd\n",
    "import matplotlib.pyplot as plt\n",
    "import numpy as np\n",
    "plt.style.use(\"ggplot\")"
   ]
  },
  {
   "cell_type": "code",
   "execution_count": 4,
   "id": "88187b47-18ce-45c4-af0e-861941b727eb",
   "metadata": {},
   "outputs": [
    {
     "data": {
      "text/html": [
       "<div>\n",
       "<style scoped>\n",
       "    .dataframe tbody tr th:only-of-type {\n",
       "        vertical-align: middle;\n",
       "    }\n",
       "\n",
       "    .dataframe tbody tr th {\n",
       "        vertical-align: top;\n",
       "    }\n",
       "\n",
       "    .dataframe thead th {\n",
       "        text-align: right;\n",
       "    }\n",
       "</style>\n",
       "<table border=\"1\" class=\"dataframe\">\n",
       "  <thead>\n",
       "    <tr style=\"text-align: right;\">\n",
       "      <th></th>\n",
       "      <th>X</th>\n",
       "      <th>Y</th>\n",
       "    </tr>\n",
       "  </thead>\n",
       "  <tbody>\n",
       "    <tr>\n",
       "      <th>0</th>\n",
       "      <td>24</td>\n",
       "      <td>472</td>\n",
       "    </tr>\n",
       "    <tr>\n",
       "      <th>1</th>\n",
       "      <td>24</td>\n",
       "      <td>403</td>\n",
       "    </tr>\n",
       "    <tr>\n",
       "      <th>2</th>\n",
       "      <td>26</td>\n",
       "      <td>454</td>\n",
       "    </tr>\n",
       "    <tr>\n",
       "      <th>3</th>\n",
       "      <td>32</td>\n",
       "      <td>575</td>\n",
       "    </tr>\n",
       "    <tr>\n",
       "      <th>4</th>\n",
       "      <td>33</td>\n",
       "      <td>546</td>\n",
       "    </tr>\n",
       "  </tbody>\n",
       "</table>\n",
       "</div>"
      ],
      "text/plain": [
       "    X    Y\n",
       "0  24  472\n",
       "1  24  403\n",
       "2  26  454\n",
       "3  32  575\n",
       "4  33  546"
      ]
     },
     "execution_count": 4,
     "metadata": {},
     "output_type": "execute_result"
    }
   ],
   "source": [
    "df=pd.read_csv(\"../Data/data-salary.txt\")\n",
    "df.head()"
   ]
  },
  {
   "cell_type": "code",
   "execution_count": 5,
   "id": "5ef548bc-c8ec-4e59-a235-9a0d0697b0a6",
   "metadata": {},
   "outputs": [
    {
     "name": "stderr",
     "output_type": "stream",
     "text": [
      "INFO:cmdstanjupyter:Writing model to .stan/linear_model.stan\n",
      "INFO:cmdstanjupyter:Creating CmdStanPy model & assigning it to variable \"linear_model\"\n",
      "INFO:cmdstanpy:compiling stan program, exe file: /home/takato/NoteBook/stan/pr_cmdstan/NoteBook/.stan/linear_model\n",
      "INFO:cmdstanpy:compiler options: stanc_options={}, cpp_options={}\n",
      "INFO:cmdstanpy:compiled model file: /home/takato/NoteBook/stan/pr_cmdstan/NoteBook/.stan/linear_model\n",
      "INFO:cmdstanjupyter:StanModel now available as variable \"linear_model\"!\n",
      " Compilation took 19 seconds.\n"
     ]
    }
   ],
   "source": [
    "%%stan linear_model\n",
    "data {\n",
    "    int N;\n",
    "    real X[N];\n",
    "    real Y[N];\n",
    "}\n",
    "\n",
    "parameters {\n",
    "    real a;\n",
    "    real b;\n",
    "    real<lower=0> sigma;\n",
    "}\n",
    "\n",
    "transformed parameters {\n",
    "  real y_base[N];\n",
    "  for (n in 1:N)\n",
    "    y_base[n]=a +b*X[n];\n",
    "}\n",
    "\n",
    "model {\n",
    "    for (n in 1:N)\n",
    "        Y[n] ~ normal(y_base[n],sigma);\n",
    "}"
   ]
  },
  {
   "cell_type": "code",
   "execution_count": 9,
   "id": "1bb0aae0-f813-4951-96db-4fb8a1a956d0",
   "metadata": {},
   "outputs": [
    {
     "data": {
      "text/plain": [
       "cmdstanpy.model.CmdStanModel"
      ]
     },
     "execution_count": 9,
     "metadata": {},
     "output_type": "execute_result"
    }
   ],
   "source": [
    "type(linear_model)"
   ]
  },
  {
   "cell_type": "code",
   "execution_count": 13,
   "id": "834736b3-9945-4ad9-a185-41c36ca28d9e",
   "metadata": {},
   "outputs": [
    {
     "data": {
      "text/plain": [
       "20"
      ]
     },
     "execution_count": 13,
     "metadata": {},
     "output_type": "execute_result"
    }
   ],
   "source": [
    "len(df)"
   ]
  },
  {
   "cell_type": "code",
   "execution_count": 12,
   "id": "7023ab8e-ca1c-47d2-b717-7fddae04ed1b",
   "metadata": {},
   "outputs": [
    {
     "data": {
      "text/plain": [
       "{'X': array([24, 24, 26, 32, 33, 35, 38, 40, 40, 43, 43, 44, 48, 52, 56, 56, 57,\n",
       "        58, 59, 59]),\n",
       " 'Y': array([ 472,  403,  454,  575,  546,  781,  750,  601,  814,  792,  745,\n",
       "         837,  868,  988, 1092, 1007, 1233, 1202, 1123, 1314])}"
      ]
     },
     "execution_count": 12,
     "metadata": {},
     "output_type": "execute_result"
    }
   ],
   "source": [
    "{\"X\":df[\"X\"].values, \"Y\":df[\"Y\"].values}"
   ]
  },
  {
   "cell_type": "code",
   "execution_count": 27,
   "id": "6e3b143a-68ac-4d2f-bcc3-18de7c188485",
   "metadata": {},
   "outputs": [
    {
     "name": "stderr",
     "output_type": "stream",
     "text": [
      "INFO:cmdstanpy:start chain 1\n",
      "INFO:cmdstanpy:start chain 2\n",
      "INFO:cmdstanpy:start chain 3\n",
      "INFO:cmdstanpy:start chain 4\n",
      "INFO:cmdstanpy:finish chain 2\n",
      "INFO:cmdstanpy:finish chain 1\n",
      "INFO:cmdstanpy:finish chain 3\n",
      "INFO:cmdstanpy:finish chain 4\n"
     ]
    }
   ],
   "source": [
    "data={\"N\":len(df),\"X\":df[\"X\"].values, \"Y\":df[\"Y\"].values}\n",
    "fit=linear_model.sample(data=data\n",
    "                        ,seed=1234,iter_warmup=1000,iter_sampling=2000)"
   ]
  },
  {
   "cell_type": "code",
   "execution_count": 15,
   "id": "cc744f8f-232e-4883-bd18-311fbc010de9",
   "metadata": {},
   "outputs": [
    {
     "name": "stdout",
     "output_type": "stream",
     "text": [
      "CmdStanMCMC: model=linear_model chains=4['method=sample', 'num_samples=2000', 'num_warmup=1000', 'algorithm=hmc', 'adapt', 'engaged=1']\n",
      " csv_files:\n",
      "\t/tmp/tmpf528dxnq/linear_model-202109261656-1-tf4_rdow.csv\n",
      "\t/tmp/tmpf528dxnq/linear_model-202109261656-2-3n66wffi.csv\n",
      "\t/tmp/tmpf528dxnq/linear_model-202109261656-3-4ct_nvx9.csv\n",
      "\t/tmp/tmpf528dxnq/linear_model-202109261656-4-jact42p3.csv\n",
      " output_files:\n",
      "\t/tmp/tmpf528dxnq/linear_model-202109261656-1-tf4_rdow-stdout.txt\n",
      "\t/tmp/tmpf528dxnq/linear_model-202109261656-2-3n66wffi-stdout.txt\n",
      "\t/tmp/tmpf528dxnq/linear_model-202109261656-3-4ct_nvx9-stdout.txt\n",
      "\t/tmp/tmpf528dxnq/linear_model-202109261656-4-jact42p3-stdout.txt\n"
     ]
    }
   ],
   "source": [
    "print(fit)"
   ]
  },
  {
   "cell_type": "code",
   "execution_count": 16,
   "id": "08617cf8-e429-410a-832d-93cfa1deb663",
   "metadata": {},
   "outputs": [
    {
     "data": {
      "text/plain": [
       "(2000, 4, 10)"
      ]
     },
     "execution_count": 16,
     "metadata": {},
     "output_type": "execute_result"
    }
   ],
   "source": [
    "fit.draws().shape"
   ]
  },
  {
   "cell_type": "code",
   "execution_count": 17,
   "id": "1c9c6cc1-8e56-4c80-8430-4fc9741dee5a",
   "metadata": {},
   "outputs": [
    {
     "name": "stderr",
     "output_type": "stream",
     "text": [
      "INFO:cmdstanpy:Processing csv files: /tmp/tmpf528dxnq/linear_model-202109261656-1-tf4_rdow.csv, /tmp/tmpf528dxnq/linear_model-202109261656-2-3n66wffi.csv, /tmp/tmpf528dxnq/linear_model-202109261656-3-4ct_nvx9.csv, /tmp/tmpf528dxnq/linear_model-202109261656-4-jact42p3.csv\n",
      "\n",
      "Checking sampler transitions treedepth.\n",
      "Treedepth satisfactory for all transitions.\n",
      "\n",
      "Checking sampler transitions for divergences.\n",
      "No divergent transitions found.\n",
      "\n",
      "Checking E-BFMI - sampler transitions HMC potential energy.\n",
      "E-BFMI satisfactory.\n",
      "\n",
      "Effective sample size satisfactory.\n",
      "\n",
      "Split R-hat values satisfactory all parameters.\n",
      "\n",
      "Processing complete, no problems detected.\n"
     ]
    },
    {
     "data": {
      "text/plain": [
       "'Processing csv files: /tmp/tmpf528dxnq/linear_model-202109261656-1-tf4_rdow.csv, /tmp/tmpf528dxnq/linear_model-202109261656-2-3n66wffi.csv, /tmp/tmpf528dxnq/linear_model-202109261656-3-4ct_nvx9.csv, /tmp/tmpf528dxnq/linear_model-202109261656-4-jact42p3.csv\\n\\nChecking sampler transitions treedepth.\\nTreedepth satisfactory for all transitions.\\n\\nChecking sampler transitions for divergences.\\nNo divergent transitions found.\\n\\nChecking E-BFMI - sampler transitions HMC potential energy.\\nE-BFMI satisfactory.\\n\\nEffective sample size satisfactory.\\n\\nSplit R-hat values satisfactory all parameters.\\n\\nProcessing complete, no problems detected.'"
      ]
     },
     "execution_count": 17,
     "metadata": {},
     "output_type": "execute_result"
    }
   ],
   "source": [
    "fit.diagnose()"
   ]
  },
  {
   "cell_type": "code",
   "execution_count": 18,
   "id": "b30be1ac-d25f-4065-a8ec-7c55678400ed",
   "metadata": {},
   "outputs": [
    {
     "data": {
      "text/html": [
       "<div>\n",
       "<style scoped>\n",
       "    .dataframe tbody tr th:only-of-type {\n",
       "        vertical-align: middle;\n",
       "    }\n",
       "\n",
       "    .dataframe tbody tr th {\n",
       "        vertical-align: top;\n",
       "    }\n",
       "\n",
       "    .dataframe thead th {\n",
       "        text-align: right;\n",
       "    }\n",
       "</style>\n",
       "<table border=\"1\" class=\"dataframe\">\n",
       "  <thead>\n",
       "    <tr style=\"text-align: right;\">\n",
       "      <th></th>\n",
       "      <th>lp__</th>\n",
       "      <th>accept_stat__</th>\n",
       "      <th>stepsize__</th>\n",
       "      <th>treedepth__</th>\n",
       "      <th>n_leapfrog__</th>\n",
       "      <th>divergent__</th>\n",
       "      <th>energy__</th>\n",
       "      <th>a</th>\n",
       "      <th>b</th>\n",
       "      <th>sigma</th>\n",
       "    </tr>\n",
       "  </thead>\n",
       "  <tbody>\n",
       "    <tr>\n",
       "      <th>0</th>\n",
       "      <td>-93.9407</td>\n",
       "      <td>0.981987</td>\n",
       "      <td>0.154738</td>\n",
       "      <td>4.0</td>\n",
       "      <td>23.0</td>\n",
       "      <td>0.0</td>\n",
       "      <td>95.3211</td>\n",
       "      <td>-136.2850</td>\n",
       "      <td>22.0496</td>\n",
       "      <td>108.6990</td>\n",
       "    </tr>\n",
       "    <tr>\n",
       "      <th>1</th>\n",
       "      <td>-94.3605</td>\n",
       "      <td>0.999467</td>\n",
       "      <td>0.154738</td>\n",
       "      <td>2.0</td>\n",
       "      <td>7.0</td>\n",
       "      <td>0.0</td>\n",
       "      <td>94.7077</td>\n",
       "      <td>-127.9440</td>\n",
       "      <td>22.1198</td>\n",
       "      <td>114.3760</td>\n",
       "    </tr>\n",
       "    <tr>\n",
       "      <th>2</th>\n",
       "      <td>-92.6995</td>\n",
       "      <td>0.967821</td>\n",
       "      <td>0.154738</td>\n",
       "      <td>4.0</td>\n",
       "      <td>15.0</td>\n",
       "      <td>0.0</td>\n",
       "      <td>95.0824</td>\n",
       "      <td>-87.8979</td>\n",
       "      <td>21.0916</td>\n",
       "      <td>92.2173</td>\n",
       "    </tr>\n",
       "    <tr>\n",
       "      <th>3</th>\n",
       "      <td>-93.6201</td>\n",
       "      <td>0.909495</td>\n",
       "      <td>0.154738</td>\n",
       "      <td>2.0</td>\n",
       "      <td>7.0</td>\n",
       "      <td>0.0</td>\n",
       "      <td>94.1165</td>\n",
       "      <td>-72.2284</td>\n",
       "      <td>21.3577</td>\n",
       "      <td>98.1900</td>\n",
       "    </tr>\n",
       "    <tr>\n",
       "      <th>4</th>\n",
       "      <td>-93.3267</td>\n",
       "      <td>0.866776</td>\n",
       "      <td>0.154738</td>\n",
       "      <td>2.0</td>\n",
       "      <td>3.0</td>\n",
       "      <td>0.0</td>\n",
       "      <td>95.4013</td>\n",
       "      <td>-95.1777</td>\n",
       "      <td>21.0446</td>\n",
       "      <td>99.0874</td>\n",
       "    </tr>\n",
       "    <tr>\n",
       "      <th>...</th>\n",
       "      <td>...</td>\n",
       "      <td>...</td>\n",
       "      <td>...</td>\n",
       "      <td>...</td>\n",
       "      <td>...</td>\n",
       "      <td>...</td>\n",
       "      <td>...</td>\n",
       "      <td>...</td>\n",
       "      <td>...</td>\n",
       "      <td>...</td>\n",
       "    </tr>\n",
       "    <tr>\n",
       "      <th>7995</th>\n",
       "      <td>-93.2884</td>\n",
       "      <td>0.967646</td>\n",
       "      <td>0.160880</td>\n",
       "      <td>4.0</td>\n",
       "      <td>15.0</td>\n",
       "      <td>0.0</td>\n",
       "      <td>93.4914</td>\n",
       "      <td>-20.7890</td>\n",
       "      <td>20.0305</td>\n",
       "      <td>80.1197</td>\n",
       "    </tr>\n",
       "    <tr>\n",
       "      <th>7996</th>\n",
       "      <td>-92.6918</td>\n",
       "      <td>0.970580</td>\n",
       "      <td>0.160880</td>\n",
       "      <td>3.0</td>\n",
       "      <td>11.0</td>\n",
       "      <td>0.0</td>\n",
       "      <td>94.7299</td>\n",
       "      <td>-49.1289</td>\n",
       "      <td>20.5201</td>\n",
       "      <td>83.9617</td>\n",
       "    </tr>\n",
       "    <tr>\n",
       "      <th>7997</th>\n",
       "      <td>-92.9197</td>\n",
       "      <td>0.988355</td>\n",
       "      <td>0.160880</td>\n",
       "      <td>4.0</td>\n",
       "      <td>15.0</td>\n",
       "      <td>0.0</td>\n",
       "      <td>93.2096</td>\n",
       "      <td>-32.6594</td>\n",
       "      <td>20.1071</td>\n",
       "      <td>76.5865</td>\n",
       "    </tr>\n",
       "    <tr>\n",
       "      <th>7998</th>\n",
       "      <td>-92.3539</td>\n",
       "      <td>0.999629</td>\n",
       "      <td>0.160880</td>\n",
       "      <td>5.0</td>\n",
       "      <td>31.0</td>\n",
       "      <td>0.0</td>\n",
       "      <td>93.5862</td>\n",
       "      <td>-166.3760</td>\n",
       "      <td>22.8840</td>\n",
       "      <td>83.2647</td>\n",
       "    </tr>\n",
       "    <tr>\n",
       "      <th>7999</th>\n",
       "      <td>-93.6842</td>\n",
       "      <td>0.756880</td>\n",
       "      <td>0.160880</td>\n",
       "      <td>3.0</td>\n",
       "      <td>7.0</td>\n",
       "      <td>0.0</td>\n",
       "      <td>95.0612</td>\n",
       "      <td>-112.4820</td>\n",
       "      <td>22.4673</td>\n",
       "      <td>80.1269</td>\n",
       "    </tr>\n",
       "  </tbody>\n",
       "</table>\n",
       "<p>8000 rows × 10 columns</p>\n",
       "</div>"
      ],
      "text/plain": [
       "         lp__  accept_stat__  stepsize__  treedepth__  n_leapfrog__  \\\n",
       "0    -93.9407       0.981987    0.154738          4.0          23.0   \n",
       "1    -94.3605       0.999467    0.154738          2.0           7.0   \n",
       "2    -92.6995       0.967821    0.154738          4.0          15.0   \n",
       "3    -93.6201       0.909495    0.154738          2.0           7.0   \n",
       "4    -93.3267       0.866776    0.154738          2.0           3.0   \n",
       "...       ...            ...         ...          ...           ...   \n",
       "7995 -93.2884       0.967646    0.160880          4.0          15.0   \n",
       "7996 -92.6918       0.970580    0.160880          3.0          11.0   \n",
       "7997 -92.9197       0.988355    0.160880          4.0          15.0   \n",
       "7998 -92.3539       0.999629    0.160880          5.0          31.0   \n",
       "7999 -93.6842       0.756880    0.160880          3.0           7.0   \n",
       "\n",
       "      divergent__  energy__         a        b     sigma  \n",
       "0             0.0   95.3211 -136.2850  22.0496  108.6990  \n",
       "1             0.0   94.7077 -127.9440  22.1198  114.3760  \n",
       "2             0.0   95.0824  -87.8979  21.0916   92.2173  \n",
       "3             0.0   94.1165  -72.2284  21.3577   98.1900  \n",
       "4             0.0   95.4013  -95.1777  21.0446   99.0874  \n",
       "...           ...       ...       ...      ...       ...  \n",
       "7995          0.0   93.4914  -20.7890  20.0305   80.1197  \n",
       "7996          0.0   94.7299  -49.1289  20.5201   83.9617  \n",
       "7997          0.0   93.2096  -32.6594  20.1071   76.5865  \n",
       "7998          0.0   93.5862 -166.3760  22.8840   83.2647  \n",
       "7999          0.0   95.0612 -112.4820  22.4673   80.1269  \n",
       "\n",
       "[8000 rows x 10 columns]"
      ]
     },
     "execution_count": 18,
     "metadata": {},
     "output_type": "execute_result"
    }
   ],
   "source": [
    "fit.draws_pd()"
   ]
  },
  {
   "cell_type": "code",
   "execution_count": 20,
   "id": "b95b6727-7df6-4cc7-8b7f-f99658c40919",
   "metadata": {},
   "outputs": [
    {
     "data": {
      "text/html": [
       "<div>\n",
       "<style scoped>\n",
       "    .dataframe tbody tr th:only-of-type {\n",
       "        vertical-align: middle;\n",
       "    }\n",
       "\n",
       "    .dataframe tbody tr th {\n",
       "        vertical-align: top;\n",
       "    }\n",
       "\n",
       "    .dataframe thead th {\n",
       "        text-align: right;\n",
       "    }\n",
       "</style>\n",
       "<table border=\"1\" class=\"dataframe\">\n",
       "  <thead>\n",
       "    <tr style=\"text-align: right;\">\n",
       "      <th></th>\n",
       "      <th>Mean</th>\n",
       "      <th>MCSE</th>\n",
       "      <th>StdDev</th>\n",
       "      <th>5%</th>\n",
       "      <th>50%</th>\n",
       "      <th>95%</th>\n",
       "      <th>N_Eff</th>\n",
       "      <th>N_Eff/s</th>\n",
       "      <th>R_hat</th>\n",
       "    </tr>\n",
       "    <tr>\n",
       "      <th>name</th>\n",
       "      <th></th>\n",
       "      <th></th>\n",
       "      <th></th>\n",
       "      <th></th>\n",
       "      <th></th>\n",
       "      <th></th>\n",
       "      <th></th>\n",
       "      <th></th>\n",
       "      <th></th>\n",
       "    </tr>\n",
       "  </thead>\n",
       "  <tbody>\n",
       "    <tr>\n",
       "      <th>lp__</th>\n",
       "      <td>-94.0</td>\n",
       "      <td>0.030</td>\n",
       "      <td>1.4</td>\n",
       "      <td>-96.0</td>\n",
       "      <td>-93.0</td>\n",
       "      <td>-92.0</td>\n",
       "      <td>2000.0</td>\n",
       "      <td>3100.0</td>\n",
       "      <td>1.0</td>\n",
       "    </tr>\n",
       "    <tr>\n",
       "      <th>a</th>\n",
       "      <td>-120.0</td>\n",
       "      <td>1.400</td>\n",
       "      <td>74.0</td>\n",
       "      <td>-240.0</td>\n",
       "      <td>-120.0</td>\n",
       "      <td>1.5</td>\n",
       "      <td>2700.0</td>\n",
       "      <td>4200.0</td>\n",
       "      <td>1.0</td>\n",
       "    </tr>\n",
       "    <tr>\n",
       "      <th>b</th>\n",
       "      <td>22.0</td>\n",
       "      <td>0.032</td>\n",
       "      <td>1.7</td>\n",
       "      <td>19.0</td>\n",
       "      <td>22.0</td>\n",
       "      <td>25.0</td>\n",
       "      <td>2700.0</td>\n",
       "      <td>4200.0</td>\n",
       "      <td>1.0</td>\n",
       "    </tr>\n",
       "    <tr>\n",
       "      <th>sigma</th>\n",
       "      <td>85.0</td>\n",
       "      <td>0.310</td>\n",
       "      <td>16.0</td>\n",
       "      <td>63.0</td>\n",
       "      <td>83.0</td>\n",
       "      <td>120.0</td>\n",
       "      <td>2800.0</td>\n",
       "      <td>4300.0</td>\n",
       "      <td>1.0</td>\n",
       "    </tr>\n",
       "  </tbody>\n",
       "</table>\n",
       "</div>"
      ],
      "text/plain": [
       "        Mean   MCSE  StdDev     5%    50%    95%   N_Eff  N_Eff/s  R_hat\n",
       "name                                                                    \n",
       "lp__   -94.0  0.030     1.4  -96.0  -93.0  -92.0  2000.0   3100.0    1.0\n",
       "a     -120.0  1.400    74.0 -240.0 -120.0    1.5  2700.0   4200.0    1.0\n",
       "b       22.0  0.032     1.7   19.0   22.0   25.0  2700.0   4200.0    1.0\n",
       "sigma   85.0  0.310    16.0   63.0   83.0  120.0  2800.0   4300.0    1.0"
      ]
     },
     "execution_count": 20,
     "metadata": {},
     "output_type": "execute_result"
    }
   ],
   "source": [
    "fit.summary()"
   ]
  },
  {
   "cell_type": "code",
   "execution_count": 25,
   "id": "df093f73-1cbd-47ba-b54f-218b529757b5",
   "metadata": {},
   "outputs": [],
   "source": [
    "a=fit.summary().loc[\"a\",\"Mean\"]\n",
    "b=fit.summary().loc[\"b\",\"Mean\"]\n",
    "y_pred=a+b*df[\"X\"]"
   ]
  },
  {
   "cell_type": "code",
   "execution_count": 26,
   "id": "7a2034d5-83a7-46e8-9a11-ec603705bd21",
   "metadata": {},
   "outputs": [
    {
     "data": {
      "text/plain": [
       "[<matplotlib.lines.Line2D at 0x7fe90e23db50>]"
      ]
     },
     "execution_count": 26,
     "metadata": {},
     "output_type": "execute_result"
    },
    {
     "data": {
      "image/png": "[encoded data removed]",
      "text/plain": [
       "<Figure size 720x720 with 1 Axes>"
      ]
     },
     "metadata": {},
     "output_type": "display_data"
    }
   ],
   "source": [
    "fig,ax=plt.subplots(figsize=(10,10))\n",
    "ax.scatter(df[\"X\"], df[\"Y\"])\n",
    "ax.plot(df[\"X\"],y_pred)"
   ]
  },
  {
   "cell_type": "code",
   "execution_count": 29,
   "id": "eb68855a-7d75-4a8d-b4a2-27391f2c5644",
   "metadata": {},
   "outputs": [
    {
     "name": "stderr",
     "output_type": "stream",
     "text": [
      "INFO:cmdstanpy:start chain 1\n",
      "INFO:cmdstanpy:finish chain 1\n"
     ]
    }
   ],
   "source": [
    "\n",
    "fit=linear_model.variational(data=data,seed=1234)"
   ]
  },
  {
   "cell_type": "code",
   "execution_count": 33,
   "id": "86480b9b-c469-4cf6-bbcb-3c9471d0527c",
   "metadata": {},
   "outputs": [],
   "source": [
    "param=fit.stan_variables()\n",
    "a2=param[\"a\"]"
   ]
  },
  {
   "cell_type": "code",
   "execution_count": 34,
   "id": "1e1d9d17-6580-4094-bd46-145db1a8d12e",
   "metadata": {},
   "outputs": [],
   "source": [
    "y_pred2=param[\"a\"]+param[\"b\"]*df[\"X\"]"
   ]
  },
  {
   "cell_type": "code",
   "execution_count": 35,
   "id": "d9f806df-3b0d-4d19-8a8b-b6c724737ab2",
   "metadata": {},
   "outputs": [
    {
     "data": {
      "text/plain": [
       "[<matplotlib.lines.Line2D at 0x7fe90d609790>]"
      ]
     },
     "execution_count": 35,
     "metadata": {},
     "output_type": "execute_result"
    },
    {
     "data": {
      "image/png": "[encoded data removed]",
      "text/plain": [
       "<Figure size 720x720 with 1 Axes>"
      ]
     },
     "metadata": {},
     "output_type": "display_data"
    }
   ],
   "source": [
    "fig,ax=plt.subplots(figsize=(10,10))\n",
    "ax.scatter(df[\"X\"], df[\"Y\"])\n",
    "ax.plot(df[\"X\"],y_pred)\n",
    "ax.plot(df[\"X\"],y_pred2)"
   ]
  },
  {
   "cell_type": "code",
   "execution_count": null,
   "id": "fdd09676-c742-4f3d-af77-ed3e892b8a23",
   "metadata": {},
   "outputs": [],
   "source": []
  }
 ],
 "metadata": {
  "kernelspec": {
   "display_name": "stanenv",
   "language": "python",
   "name": "stanenv"
  },
  "language_info": {
   "codemirror_mode": {
    "name": "ipython",
    "version": 3
   },
   "file_extension": ".py",
   "mimetype": "text/x-python",
   "name": "python",
   "nbconvert_exporter": "python",
   "pygments_lexer": "ipython3",
   "version": "3.9.6"
  }
 },
 "nbformat": 4,
 "nbformat_minor": 5
}
